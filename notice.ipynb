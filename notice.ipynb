{
 "cells": [
  {
   "cell_type": "markdown",
   "metadata": {},
   "source": [
    "<h2 style='color:yellow'>First file : Scrapper data</h2>\n",
    "\n",
    "Available leagues for now : Ligue1, PL\n",
    "\n",
    "Each time you want to scrap a league : \n",
    "- Run only the cell corresponding to the league (variables names and column names)\n",
    "- Change the date interval (generally the last matchs played you want to add)"
   ]
  },
  {
   "cell_type": "markdown",
   "metadata": {},
   "source": [
    "<h2 style='color:yellow'>Second file : Data cleaner</h2>\n",
    "\n",
    "Just run the code.\n",
    "\n",
    "*Remark : if you want to use data from before 2018 season, you'll need to uncomment (small_dim and comment large_dim)*"
   ]
  },
  {
   "cell_type": "markdown",
   "metadata": {},
   "source": [
    "<h2 style='color:yellow'>Third file : Model and prediction</h2>\n",
    "\n",
    "Run the code till the prediction part if you add new data to the dataset.\n",
    "\n",
    "<p style='font-style: italic;'>Remark : You might have two run the 'import cell' twice if you are getting an error</p>\n",
    "\n",
    "For the prediction part, set the date to run the scrapper on the next league day (you should know the date) and set the day league number and the league name before pushing it on the excel.\n"
   ]
  },
  {
   "cell_type": "markdown",
   "metadata": {},
   "source": [
    "<h2 style='color:yellow'>Fourth file : Scrapper côtes</h2>"
   ]
  },
  {
   "cell_type": "markdown",
   "metadata": {},
   "source": [
    "Set the number of match during the day of the league (ex : 10 - canceled and postponed for Ligue1 and PL) and run the code. You'll get the odds on excel."
   ]
  },
  {
   "cell_type": "markdown",
   "metadata": {},
   "source": [
    "<h2 style='color:yellow'>Fifth file : Excel</h2>"
   ]
  },
  {
   "cell_type": "markdown",
   "metadata": {},
   "source": [
    "Watch the template and copy to get it."
   ]
  }
 ],
 "metadata": {
  "language_info": {
   "name": "python"
  },
  "orig_nbformat": 4
 },
 "nbformat": 4,
 "nbformat_minor": 2
}
