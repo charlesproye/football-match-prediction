{
 "cells": [
  {
   "cell_type": "code",
   "execution_count": 2,
   "id": "regular-paradise",
   "metadata": {},
   "outputs": [],
   "source": [
    "import os\n",
    "import os.path\n",
    "import selenium\n",
    "from selenium import webdriver\n",
    "import time\n",
    "import io\n",
    "import requests\n",
    "from webdriver_manager.chrome import ChromeDriverManager\n",
    "from selenium.common.exceptions import ElementClickInterceptedException\n",
    "import numpy as np\n",
    "import csv\n",
    "from selenium.webdriver.support.ui import WebDriverWait\n",
    "import datetime\n",
    "from datetime import date, timedelta\n",
    "from selenium.webdriver.common.action_chains import ActionChains\n",
    "import pandas as pd\n",
    "import pickle"
   ]
  },
  {
   "cell_type": "code",
   "execution_count": 3,
   "id": "7d1ff7ba",
   "metadata": {},
   "outputs": [
    {
     "name": "stdout",
     "output_type": "stream",
     "text": [
      "Date                       0\n",
      "Home                       0\n",
      "Team                       0\n",
      "Opponent                   0\n",
      "Ball possession           70\n",
      "Total shots               70\n",
      "Shots on target           70\n",
      "Shots off target          70\n",
      "Blocked shots             70\n",
      "Corner kicks              70\n",
      "Offsides                 172\n",
      "Fouls                     70\n",
      "Yellow cards             218\n",
      "Shots inside box          70\n",
      "Shots outside box         70\n",
      "Goalkeeper saves          76\n",
      "Passes                    70\n",
      "Acc. passes               70\n",
      "Duels won                 70\n",
      "Aerials won               70\n",
      "Counter attacks         1357\n",
      "Hit woodwork            1272\n",
      "Red cards               2143\n",
      "Possession lost          735\n",
      "Big chances             1030\n",
      "Big chances missed      1166\n",
      "Long balls              1205\n",
      "Crosses                 1205\n",
      "Dribbles                1205\n",
      "Tackles                 1205\n",
      "Interceptions           1205\n",
      "Clearances              1205\n",
      "Counter attack shots    2017\n",
      "Counter attack goals    2296\n",
      "dtype: int64\n"
     ]
    }
   ],
   "source": [
    "# Load the CSV\n",
    "dfPL = pd.read_csv('./sofascore_PL_with_score.csv')\n",
    "# Check NAN\n",
    "print(dfPL.isna().sum())\n",
    "# Drop duplicates columns due to Selenium error (stuck at a day, do this day again)\n",
    "dfPL = dfPL.drop_duplicates().reset_index()"
   ]
  },
  {
   "cell_type": "code",
   "execution_count": 4,
   "id": "20d9a2a8",
   "metadata": {},
   "outputs": [],
   "source": [
    "# Drop useless columns (too small number of data)\n",
    "dfPL.drop(columns=['Counter attack shots', 'Counter attack goals', 'Counter attacks'], inplace=True)"
   ]
  },
  {
   "cell_type": "code",
   "execution_count": null,
   "id": "039fa743",
   "metadata": {},
   "outputs": [],
   "source": [
    "# Transform Date into date time\n",
    "dfPL['Date'] = dfPL['Date'].apply(lambda x: datetime.datetime.strptime(x, \"%d/%m/%y\"))"
   ]
  },
  {
   "cell_type": "code",
   "execution_count": 5,
   "id": "d43422a1",
   "metadata": {},
   "outputs": [],
   "source": [
    "# Change red yellow cards and offsides\n",
    "dfPL['Red cards'] = dfPL['Red cards'].apply(lambda x: 0 if np.isnan(x) else x)\n",
    "dfPL['Yellow cards'] = dfPL['Yellow cards'].apply(lambda x: 0 if np.isnan(x) else x)\n",
    "dfPL['Offsides'] = dfPL['Offsides'].apply(lambda x: 0 if np.isnan(x) else x)\n",
    "dfPL['Hit woodwork'] = dfPL['Hit woodwork'].apply(lambda x: 0 if np.isnan(x) else x)\n",
    "dfPL['Goalkeeper saves'] = dfPL['Goalkeeper saves'].apply(lambda x: 0 if np.isnan(x) else x)\n"
   ]
  },
  {
   "cell_type": "code",
   "execution_count": 6,
   "id": "7dac0312",
   "metadata": {},
   "outputs": [],
   "source": [
    "# Separate DF with old and new data\n",
    "dfPL_smalldim = dfPL[np.isnan(dfPL['Clearances'])].reset_index()\n",
    "dfPL_largedim = dfPL[~np.isnan(dfPL['Clearances'])].reset_index()\n",
    "# Small dim get rid of useless colums\n",
    "dfPL_smalldim.drop(columns=['Long balls', 'Crosses', 'Dribbles', 'Tackles', 'Interceptions', 'Clearances', 'Big chances', 'Big chances missed', 'Possession lost'], inplace=True)"
   ]
  },
  {
   "cell_type": "code",
   "execution_count": 7,
   "id": "0edd1a75",
   "metadata": {},
   "outputs": [],
   "source": [
    "# PL large_dim change NaN to zero (Big Chances, Big Chances missed)\n",
    "dfPL_largedim['Big chances'] = dfPL_largedim['Big chances'].apply(lambda x: 0 if np.isnan(x) else x)\n",
    "dfPL_largedim['Big chances missed'] = dfPL_largedim['Big chances missed'].apply(lambda x: 0 if np.isnan(x) else x)"
   ]
  },
  {
   "cell_type": "code",
   "execution_count": 8,
   "id": "cbbdfb2d",
   "metadata": {},
   "outputs": [],
   "source": [
    "# Get rid of the postponed / canceled games\n",
    "dfPL_smalldim = dfPL_smalldim[dfPL_smalldim['Ball possession'].notna()]"
   ]
  },
  {
   "cell_type": "code",
   "execution_count": 9,
   "id": "865bb988",
   "metadata": {},
   "outputs": [],
   "source": [
    "# Two useless columns\n",
    "dfPL_smalldim.drop(columns=['level_0', 'index'], inplace=True)\n",
    "dfPL_largedim.drop(columns=['level_0', 'index'], inplace=True)"
   ]
  },
  {
   "cell_type": "code",
   "execution_count": 10,
   "id": "af5e1fbd",
   "metadata": {},
   "outputs": [
    {
     "name": "stdout",
     "output_type": "stream",
     "text": [
      "Date                  object\n",
      "Home                   int64\n",
      "Team                  object\n",
      "Opponent              object\n",
      "Ball possession       object\n",
      "Total shots          float64\n",
      "Shots on target      float64\n",
      "Shots off target     float64\n",
      "Blocked shots        float64\n",
      "Corner kicks         float64\n",
      "Offsides             float64\n",
      "Fouls                float64\n",
      "Yellow cards         float64\n",
      "Shots inside box     float64\n",
      "Shots outside box    float64\n",
      "Goalkeeper saves     float64\n",
      "Passes               float64\n",
      "Acc. passes           object\n",
      "Duels won            float64\n",
      "Aerials won          float64\n",
      "Hit woodwork         float64\n",
      "Red cards            float64\n",
      "dtype: object\n"
     ]
    },
    {
     "data": {
      "text/plain": [
       "Date                   object\n",
       "Home                    int64\n",
       "Team                   object\n",
       "Opponent               object\n",
       "Ball possession        object\n",
       "Total shots           float64\n",
       "Shots on target       float64\n",
       "Shots off target      float64\n",
       "Blocked shots         float64\n",
       "Corner kicks          float64\n",
       "Offsides              float64\n",
       "Fouls                 float64\n",
       "Yellow cards          float64\n",
       "Shots inside box      float64\n",
       "Shots outside box     float64\n",
       "Goalkeeper saves      float64\n",
       "Passes                float64\n",
       "Acc. passes            object\n",
       "Duels won             float64\n",
       "Aerials won           float64\n",
       "Hit woodwork          float64\n",
       "Red cards             float64\n",
       "Possession lost       float64\n",
       "Big chances           float64\n",
       "Big chances missed    float64\n",
       "Long balls             object\n",
       "Crosses                object\n",
       "Dribbles               object\n",
       "Tackles               float64\n",
       "Interceptions         float64\n",
       "Clearances            float64\n",
       "dtype: object"
      ]
     },
     "execution_count": 10,
     "metadata": {},
     "output_type": "execute_result"
    }
   ],
   "source": [
    "# Visualise the types\n",
    "print(dfPL_smalldim.dtypes)\n",
    "dfPL_largedim.dtypes"
   ]
  },
  {
   "cell_type": "code",
   "execution_count": 11,
   "id": "5c3ff50c",
   "metadata": {},
   "outputs": [],
   "source": [
    "# Functions helping transform the values (used in next cell)\n",
    "\n",
    "# For Acc. passes (small and large)\n",
    "def spliter_cleaner(x):\n",
    "    x_list = x.replace('(','').replace(')','').replace('%','').split(' ')\n",
    "    return int(x_list[0]), int(x_list[1])/100\n",
    "\n",
    "# For Long Balls, crosses and dribbles\n",
    "def spliter_cleaner_large(x):\n",
    "    abs = x.replace('(','').replace(')','').replace('%','').split('/')[0]\n",
    "    prop = x.replace('(','').replace(')','').replace('%','').split('/')[1].split(' ')[1]\n",
    "    return int(abs), int(prop)/100"
   ]
  },
  {
   "cell_type": "code",
   "execution_count": 12,
   "id": "9778e636",
   "metadata": {},
   "outputs": [],
   "source": [
    "# Deal with the types of values\n",
    "dfPL_smalldim['Team'] = dfPL_smalldim['Team'].apply(lambda x: str(x))\n",
    "dfPL_smalldim['Opponent'] = dfPL_smalldim['Opponent'].apply(lambda x: str(x))\n",
    "dfPL_smalldim['Ball possession'] = dfPL_smalldim['Ball possession'].apply(lambda x: float(str(x).replace('%',''))/100)\n",
    "dfPL_largedim['Ball possession'] = dfPL_largedim['Ball possession'].apply(lambda x: float(str(x).replace('%',''))/100)\n",
    "dfPL_smalldim['Acc. passes'], dfPL_smalldim['Acc. passes prop'] = \\\n",
    "    zip(*dfPL_smalldim['Acc. passes'].map(spliter_cleaner))\n",
    "dfPL_largedim['Acc. passes'], dfPL_largedim['Acc. passes prop'] = \\\n",
    "    zip(*dfPL_largedim['Acc. passes'].map(spliter_cleaner))\n",
    "dfPL_largedim['Crosses'], dfPL_largedim['Crosses prop'] = \\\n",
    "    zip(*dfPL_largedim['Crosses'].map(spliter_cleaner_large))\n",
    "dfPL_largedim['Long balls'], dfPL_largedim['Long balls prop'] = \\\n",
    "    zip(*dfPL_largedim['Long balls'].map(spliter_cleaner_large))\n",
    "dfPL_largedim['Dribbles'], dfPL_largedim['Dribbles prop'] = \\\n",
    "    zip(*dfPL_largedim['Dribbles'].map(spliter_cleaner_large))"
   ]
  },
  {
   "cell_type": "code",
   "execution_count": 13,
   "id": "d568dc68",
   "metadata": {},
   "outputs": [
    {
     "name": "stdout",
     "output_type": "stream",
     "text": [
      "(1114, 23)\n",
      "(1141, 35)\n"
     ]
    },
    {
     "data": {
      "text/plain": [
       "Date                  0\n",
       "Home                  0\n",
       "Team                  0\n",
       "Opponent              0\n",
       "Ball possession       0\n",
       "Total shots           0\n",
       "Shots on target       0\n",
       "Shots off target      0\n",
       "Blocked shots         0\n",
       "Corner kicks          0\n",
       "Offsides              0\n",
       "Fouls                 0\n",
       "Yellow cards          0\n",
       "Shots inside box      0\n",
       "Shots outside box     0\n",
       "Goalkeeper saves      0\n",
       "Passes                0\n",
       "Acc. passes           0\n",
       "Duels won             0\n",
       "Aerials won           0\n",
       "Hit woodwork          0\n",
       "Red cards             0\n",
       "Possession lost       0\n",
       "Big chances           0\n",
       "Big chances missed    0\n",
       "Long balls            0\n",
       "Crosses               0\n",
       "Dribbles              0\n",
       "Tackles               0\n",
       "Interceptions         0\n",
       "Clearances            0\n",
       "Acc. passes prop      0\n",
       "Crosses prop          0\n",
       "Long balls prop       0\n",
       "Dribbles prop         0\n",
       "dtype: int64"
      ]
     },
     "execution_count": 13,
     "metadata": {},
     "output_type": "execute_result"
    }
   ],
   "source": [
    "# Final shapes\n",
    "print(dfPL_smalldim.shape)\n",
    "print(dfPL_largedim.shape)\n",
    "dfPL_largedim.isna().sum()"
   ]
  }
 ],
 "metadata": {
  "kernelspec": {
   "display_name": "Python 3",
   "language": "python",
   "name": "python3"
  },
  "language_info": {
   "codemirror_mode": {
    "name": "ipython",
    "version": 3
   },
   "file_extension": ".py",
   "mimetype": "text/x-python",
   "name": "python",
   "nbconvert_exporter": "python",
   "pygments_lexer": "ipython3",
   "version": "3.9.5"
  }
 },
 "nbformat": 4,
 "nbformat_minor": 5
}
